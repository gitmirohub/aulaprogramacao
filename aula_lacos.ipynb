{
  "nbformat": 4,
  "nbformat_minor": 0,
  "metadata": {
    "colab": {
      "provenance": [],
      "authorship_tag": "ABX9TyOfryornNryAynCYBQ8z//i",
      "include_colab_link": true
    },
    "kernelspec": {
      "name": "python3",
      "display_name": "Python 3"
    },
    "language_info": {
      "name": "python"
    }
  },
  "cells": [
    {
      "cell_type": "markdown",
      "metadata": {
        "id": "view-in-github",
        "colab_type": "text"
      },
      "source": [
        "<a href=\"https://colab.research.google.com/github/gitmirohub/aulaprogramacao/blob/main/aula_lacos.ipynb\" target=\"_parent\"><img src=\"https://colab.research.google.com/assets/colab-badge.svg\" alt=\"Open In Colab\"/></a>"
      ]
    },
    {
      "cell_type": "code",
      "execution_count": 5,
      "metadata": {
        "colab": {
          "base_uri": "https://localhost:8080/"
        },
        "id": "h-eo5oEnzT4Z",
        "outputId": "b2490eae-d808-455a-9dac-bf032dcf912d"
      },
      "outputs": [
        {
          "output_type": "stream",
          "name": "stdout",
          "text": [
            "1\n",
            "2\n",
            "3\n",
            "4\n",
            "5\n",
            "6\n",
            "7\n"
          ]
        }
      ],
      "source": [
        "for i in range(1, 8):\n",
        "  print(i)"
      ]
    },
    {
      "cell_type": "code",
      "source": [
        "for i in range(8):\n",
        "  print(i)"
      ],
      "metadata": {
        "colab": {
          "base_uri": "https://localhost:8080/"
        },
        "id": "Z89cYKg02w8c",
        "outputId": "cfbb5c81-c6ee-4b6c-cea4-dae08897c9df"
      },
      "execution_count": 7,
      "outputs": [
        {
          "output_type": "stream",
          "name": "stdout",
          "text": [
            "0\n",
            "1\n",
            "2\n",
            "3\n",
            "4\n",
            "5\n",
            "6\n",
            "7\n"
          ]
        }
      ]
    },
    {
      "cell_type": "code",
      "source": [],
      "metadata": {
        "id": "li61WBUT3IGU"
      },
      "execution_count": null,
      "outputs": []
    },
    {
      "cell_type": "code",
      "source": [
        "for  i in range (10, 26):\n",
        "  print(i)"
      ],
      "metadata": {
        "colab": {
          "base_uri": "https://localhost:8080/"
        },
        "id": "RwEAc47l2y-U",
        "outputId": "c84cac70-926c-40cb-fa99-4e0673db5a7e"
      },
      "execution_count": 10,
      "outputs": [
        {
          "output_type": "stream",
          "name": "stdout",
          "text": [
            "10\n",
            "11\n",
            "12\n",
            "13\n",
            "14\n",
            "15\n",
            "16\n",
            "17\n",
            "18\n",
            "19\n",
            "20\n",
            "21\n",
            "22\n",
            "23\n",
            "24\n",
            "25\n"
          ]
        }
      ]
    },
    {
      "cell_type": "code",
      "source": [
        "for i in range (0, 51,2):\n",
        "  print(i)"
      ],
      "metadata": {
        "colab": {
          "base_uri": "https://localhost:8080/"
        },
        "id": "nzbO1lJY3d5E",
        "outputId": "45ba330f-d41b-418c-d80d-8f66d9bfbc92"
      },
      "execution_count": 25,
      "outputs": [
        {
          "output_type": "stream",
          "name": "stdout",
          "text": [
            "0\n",
            "2\n",
            "4\n",
            "6\n",
            "8\n",
            "10\n",
            "12\n",
            "14\n",
            "16\n",
            "18\n",
            "20\n",
            "22\n",
            "24\n",
            "26\n",
            "28\n",
            "30\n",
            "32\n",
            "34\n",
            "36\n",
            "38\n",
            "40\n",
            "42\n",
            "44\n",
            "46\n",
            "48\n",
            "50\n"
          ]
        }
      ]
    },
    {
      "cell_type": "code",
      "source": [
        "for i in range(10, 0, -1):\n",
        " print(i)"
      ],
      "metadata": {
        "colab": {
          "base_uri": "https://localhost:8080/"
        },
        "id": "XWn-YZHf4DiT",
        "outputId": "98d39f5d-c39f-4ef9-a9e1-df8060b4ca9a"
      },
      "execution_count": 29,
      "outputs": [
        {
          "output_type": "stream",
          "name": "stdout",
          "text": [
            "10\n",
            "9\n",
            "8\n",
            "7\n",
            "6\n",
            "5\n",
            "4\n",
            "3\n",
            "2\n",
            "1\n"
          ]
        }
      ]
    },
    {
      "cell_type": "code",
      "source": [
        "soma = 0\n",
        "for i in range(5):\n",
        "  soma = soma + i\n",
        "\n",
        "print(soma)"
      ],
      "metadata": {
        "colab": {
          "base_uri": "https://localhost:8080/"
        },
        "id": "v0B2JFIm6nKY",
        "outputId": "154d15a8-8a0d-4b41-d807-98a13fa5bdd8"
      },
      "execution_count": 32,
      "outputs": [
        {
          "output_type": "stream",
          "name": "stdout",
          "text": [
            "10\n"
          ]
        }
      ]
    },
    {
      "cell_type": "code",
      "source": [
        "soma = 0\n",
        "num1 = int(input(\"insira o primeiro numero: \"))\n",
        "num2 = int(input(\"insira o segundo numero: \"))\n",
        "\n",
        "for i in range(num1, num2+1):\n",
        "  soma=soma+i\n",
        "\n",
        "print(soma)"
      ],
      "metadata": {
        "colab": {
          "base_uri": "https://localhost:8080/"
        },
        "id": "MtVKvuTR7cD_",
        "outputId": "1ed9089d-d9b5-4932-c1ec-54b0f05cb985"
      },
      "execution_count": 41,
      "outputs": [
        {
          "output_type": "stream",
          "name": "stdout",
          "text": [
            "insira o primeiro numero: 7\n",
            "insira o segundo numero: 8\n",
            "15\n"
          ]
        }
      ]
    },
    {
      "cell_type": "code",
      "source": [
        "for i in range(1, 21):\n",
        " if (i % 2  == 0):\n",
        "  print(i, \"é par\" )\n",
        " else:\n",
        "  print(i, \"é impar\")\n"
      ],
      "metadata": {
        "colab": {
          "base_uri": "https://localhost:8080/"
        },
        "id": "D0sYtJhD9vvU",
        "outputId": "98d13634-ff7c-4c5f-bda7-abc485ceab48"
      },
      "execution_count": 47,
      "outputs": [
        {
          "output_type": "stream",
          "name": "stdout",
          "text": [
            "1 é impar\n",
            "2 é par\n",
            "3 é impar\n",
            "4 é par\n",
            "5 é impar\n",
            "6 é par\n",
            "7 é impar\n",
            "8 é par\n",
            "9 é impar\n",
            "10 é par\n",
            "11 é impar\n",
            "12 é par\n",
            "13 é impar\n",
            "14 é par\n",
            "15 é impar\n",
            "16 é par\n",
            "17 é impar\n",
            "18 é par\n",
            "19 é impar\n",
            "20 é par\n"
          ]
        }
      ]
    },
    {
      "cell_type": "code",
      "source": [
        "carros = [\"chevete\", \"fusca\", \"uno\", \"jeep\"]\n",
        "\n",
        "for carro in carros:\n",
        "  print(carro)\n",
        "\n"
      ],
      "metadata": {
        "colab": {
          "base_uri": "https://localhost:8080/"
        },
        "id": "p646ZTenAZIt",
        "outputId": "7af43332-f2c9-42a1-a364-b2e6bccc2564"
      },
      "execution_count": 53,
      "outputs": [
        {
          "output_type": "stream",
          "name": "stdout",
          "text": [
            "chevete\n",
            "fusca\n",
            "uno\n",
            "jeep\n"
          ]
        }
      ]
    },
    {
      "cell_type": "code",
      "source": [
        "i = 1\n",
        "while (i <=5):\n",
        "  print(i)\n",
        "  i+=1"
      ],
      "metadata": {
        "colab": {
          "base_uri": "https://localhost:8080/"
        },
        "id": "ZOfuiQEyB-Zm",
        "outputId": "aae6ae1f-c948-476d-8704-a4b5655f7350"
      },
      "execution_count": 54,
      "outputs": [
        {
          "output_type": "stream",
          "name": "stdout",
          "text": [
            "1\n",
            "2\n",
            "3\n",
            "4\n",
            "5\n"
          ]
        }
      ]
    },
    {
      "cell_type": "code",
      "source": [
        "senha = \"\"\n",
        "\n",
        "while (senha != \"123\"):\n",
        "\n",
        "  senha = input(\"digite sua senha: \")\n",
        "print(\"acesso liberado: \")\n"
      ],
      "metadata": {
        "colab": {
          "base_uri": "https://localhost:8080/"
        },
        "id": "DVOvTrltC8Wy",
        "outputId": "6b507800-bf72-4c71-d804-a80185a02420"
      },
      "execution_count": 56,
      "outputs": [
        {
          "output_type": "stream",
          "name": "stdout",
          "text": [
            "digite sua senha: 147\n",
            "digite sua senha: 123\n",
            "acesso liberado: \n"
          ]
        }
      ]
    },
    {
      "cell_type": "code",
      "source": [
        "valor = 1\n",
        "\n",
        "while (valor != 0):\n",
        "  print(valor, \"diferente de zero\")\n",
        "  valor = int(input(\"digite um numero , zero sai: \"))\n",
        "print(\"digitasse zero otaro!\")\n",
        "\n"
      ],
      "metadata": {
        "colab": {
          "base_uri": "https://localhost:8080/"
        },
        "id": "xO7pSkAOEBAY",
        "outputId": "5e9e5045-a0ba-433a-9099-195f5d94a2d5"
      },
      "execution_count": 60,
      "outputs": [
        {
          "output_type": "stream",
          "name": "stdout",
          "text": [
            "1 diferente de zero\n",
            "digite um numero , zero sai: 14\n",
            "14 diferente de zero\n",
            "digite um numero , zero sai: 0\n",
            "digitasse zero otaro!\n"
          ]
        }
      ]
    },
    {
      "cell_type": "code",
      "source": [
        "soma = 0\n",
        "valor = 1\n",
        "\n",
        "while (valor != 0):\n",
        "  print(valor, \"soma\")\n",
        "  valor = int(input(\"digite um numero , zero sai: \"))\n",
        "  soma += valor\n",
        "print(soma)\n"
      ],
      "metadata": {
        "id": "-Dntb2jHFNN8"
      },
      "execution_count": null,
      "outputs": []
    }
  ]
}